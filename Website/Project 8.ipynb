{
 "cells": [
  {
   "cell_type": "markdown",
   "id": "2f1081b1-d284-414f-8af3-30a16671ba3b",
   "metadata": {},
   "source": [
    "# Project 8\n",
    "\n",
    ">Vega-Altair is a declarative visualization library for Python. Its simple, friendly and consistent API, built on top of the powerful Vega-Lite grammar, empowers you to spend less time writing code and more time exploring your data.\n",
    "\n",
    "According to the paragraph from the official website of Vega-Altair, I am curious about the Vega-Lite grammar and guess that the Python Altair module may follow the logic of Vega-Lite, and the function defines the same concept. So, I tried the Vega-Lite first to see the basic concept of it. And tried to figure out if there were any same functions in Python and transferred Vega-Lite to Python. \n",
    "\n",
    "**Below is the graph's source code written by Vega-Altair**\r\n",
    "}\n"
   ]
  },
  {
   "cell_type": "code",
   "execution_count": null,
   "id": "48481b61-2b39-4f17-a2dc-c35d57fc7465",
   "metadata": {},
   "outputs": [],
   "source": [
    "{\n",
    "  \"$schema\": \"https://vega.github.io/schema/vega-lite/v5.json\",\n",
    "  \"data\": {\n",
    "    \"values\":[\n",
    "    {\"country\":\"Azerbaijan\", \"amount\":1250.0},\n",
    "    {\"country\":\"El Salvador\", \"amount\": 1200.0},\n",
    "    {\"country\": \"Bolivia\", \"amount\": 2150.0},\n",
    "    {\"country\":\"Paraguay\", \"amount\": 800.0},\n",
    "    {\"country\":\"Philippines\", \"amount\": 1775.0},\n",
    "    {\"country\":\"Nicaragua\", \"amount\": 225.0},\n",
    "    {\"country\":\"Guatemala\", \"amount\": 1200.0},\n",
    "    {\"country\":\"Madagascar\", \"amount\": 175.0},\n",
    "    {\"country\":\"Georgia\", \"amount\": 1800.0},\n",
    "    {\"country\":\"Uganda\", \"amount\": 1525.0},\n",
    "    {\"country\":\"Kenya\", \"amount\": 1325.0},\n",
    "    {\"country\":\"Tajikistan\", \"amount\": 700.0},\n",
    "    {\"country\":\"Jordan\", \"amount\": 1450.0},\n",
    "    {\"country\":\"Ecuador\", \"amount\": 1000.0}\n",
    "    ]\n",
    "},\n",
    "  \"layer\": [\n",
    "    {\n",
    "      \"params\": [\n",
    "        {\n",
    "          \"name\": \"hover\",\n",
    "          \"select\": {\"type\": \"point\", \"on\": \"mouseover\", \"clear\": \"mouseout\"}\n",
    "        }\n",
    "      ],\n",
    "      \"mark\": {\"type\": \"bar\", \"color\": \"#eee\", \"tooltip\": true},\n",
    "      \"encoding\": {\n",
    "        \"x\": { \"field\": \"country\",\"type\": \"nominal\"},\n",
    "        \"opacity\": {\n",
    "          \"condition\": {\"test\": {\"param\": \"hover\", \"empty\": false}, \"value\": 0.5},\n",
    "          \"value\": 0\n",
    "        },\n",
    "        \"detail\": [{\"field\": \"amount\"}]\n",
    "      }\n",
    "    },\n",
    "    {\n",
    "      \"mark\": \"bar\",\n",
    "      \"encoding\": {\n",
    "        \"x\": {\"field\": \"country\",\"type\": \"nominal\"},\n",
    "        \"y\": {\"field\": \"amount\",\"type\": \"quantitative\"}\n",
    "      }\n",
    "    }\n",
    "  ]\n",
    "}"
   ]
  },
  {
   "cell_type": "markdown",
   "id": "ac6ba97f-080d-482d-a245-7c7f62dc7be6",
   "metadata": {},
   "source": [
    "**Below is the interface of Vega-Lite**\n",
    "\n",
    "<http://54.183.116.93/Vega_Lite.html>"
   ]
  },
  {
   "cell_type": "markdown",
   "id": "2bc2da35-1cc0-4cab-a358-6f752b8f3463",
   "metadata": {},
   "source": [
    "**And then, we try to convert it into python**"
   ]
  },
  {
   "cell_type": "code",
   "execution_count": 54,
   "id": "256193f0-2788-439a-b1c3-d58784e70ec2",
   "metadata": {},
   "outputs": [
    {
     "data": {
      "text/html": [
       "\n",
       "<style>\n",
       "  #altair-viz-9921f65a9f3b426f97378acfc4e93c03.vega-embed {\n",
       "    width: 100%;\n",
       "    display: flex;\n",
       "  }\n",
       "\n",
       "  #altair-viz-9921f65a9f3b426f97378acfc4e93c03.vega-embed details,\n",
       "  #altair-viz-9921f65a9f3b426f97378acfc4e93c03.vega-embed details summary {\n",
       "    position: relative;\n",
       "  }\n",
       "</style>\n",
       "<div id=\"altair-viz-9921f65a9f3b426f97378acfc4e93c03\"></div>\n",
       "<script type=\"text/javascript\">\n",
       "  var VEGA_DEBUG = (typeof VEGA_DEBUG == \"undefined\") ? {} : VEGA_DEBUG;\n",
       "  (function(spec, embedOpt){\n",
       "    let outputDiv = document.currentScript.previousElementSibling;\n",
       "    if (outputDiv.id !== \"altair-viz-9921f65a9f3b426f97378acfc4e93c03\") {\n",
       "      outputDiv = document.getElementById(\"altair-viz-9921f65a9f3b426f97378acfc4e93c03\");\n",
       "    }\n",
       "    const paths = {\n",
       "      \"vega\": \"https://cdn.jsdelivr.net/npm/vega@5?noext\",\n",
       "      \"vega-lib\": \"https://cdn.jsdelivr.net/npm/vega-lib?noext\",\n",
       "      \"vega-lite\": \"https://cdn.jsdelivr.net/npm/vega-lite@5.14.1?noext\",\n",
       "      \"vega-embed\": \"https://cdn.jsdelivr.net/npm/vega-embed@6?noext\",\n",
       "    };\n",
       "\n",
       "    function maybeLoadScript(lib, version) {\n",
       "      var key = `${lib.replace(\"-\", \"\")}_version`;\n",
       "      return (VEGA_DEBUG[key] == version) ?\n",
       "        Promise.resolve(paths[lib]) :\n",
       "        new Promise(function(resolve, reject) {\n",
       "          var s = document.createElement('script');\n",
       "          document.getElementsByTagName(\"head\")[0].appendChild(s);\n",
       "          s.async = true;\n",
       "          s.onload = () => {\n",
       "            VEGA_DEBUG[key] = version;\n",
       "            return resolve(paths[lib]);\n",
       "          };\n",
       "          s.onerror = () => reject(`Error loading script: ${paths[lib]}`);\n",
       "          s.src = paths[lib];\n",
       "        });\n",
       "    }\n",
       "\n",
       "    function showError(err) {\n",
       "      outputDiv.innerHTML = `<div class=\"error\" style=\"color:red;\">${err}</div>`;\n",
       "      throw err;\n",
       "    }\n",
       "\n",
       "    function displayChart(vegaEmbed) {\n",
       "      vegaEmbed(outputDiv, spec, embedOpt)\n",
       "        .catch(err => showError(`Javascript Error: ${err.message}<br>This usually means there's a typo in your chart specification. See the javascript console for the full traceback.`));\n",
       "    }\n",
       "\n",
       "    if(typeof define === \"function\" && define.amd) {\n",
       "      requirejs.config({paths});\n",
       "      require([\"vega-embed\"], displayChart, err => showError(`Error loading script: ${err.message}`));\n",
       "    } else {\n",
       "      maybeLoadScript(\"vega\", \"5\")\n",
       "        .then(() => maybeLoadScript(\"vega-lite\", \"5.14.1\"))\n",
       "        .then(() => maybeLoadScript(\"vega-embed\", \"6\"))\n",
       "        .catch(showError)\n",
       "        .then(() => displayChart(vegaEmbed));\n",
       "    }\n",
       "  })({\"config\": {\"view\": {\"continuousWidth\": 300, \"continuousHeight\": 300}}, \"data\": {\"name\": \"data-ba4aa434636d24fe88eb262c5bf0fec7\"}, \"mark\": {\"type\": \"bar\"}, \"encoding\": {\"color\": {\"condition\": {\"param\": \"param_43\", \"value\": \"#4c78a8\"}, \"value\": \"lightgray\"}, \"tooltip\": [{\"field\": \"Loan Amount\", \"type\": \"quantitative\"}, {\"bin\": false, \"field\": \"Country\", \"type\": \"nominal\"}], \"x\": {\"bin\": false, \"field\": \"Country\", \"type\": \"nominal\"}, \"y\": {\"field\": \"Loan Amount\", \"type\": \"quantitative\"}}, \"params\": [{\"name\": \"param_43\", \"select\": {\"type\": \"point\"}}], \"width\": 500, \"$schema\": \"https://vega.github.io/schema/vega-lite/v5.14.1.json\", \"datasets\": {\"data-ba4aa434636d24fe88eb262c5bf0fec7\": [{\"Country\": \"Azerbaijan\", \"Loan Amount\": 1250.0}, {\"Country\": \"El Salvador\", \"Loan Amount\": 500.0}, {\"Country\": \"Bolivia\", \"Loan Amount\": 1450.0}, {\"Country\": \"Paraguay\", \"Loan Amount\": 200.0}, {\"Country\": \"El Salvador\", \"Loan Amount\": 700.0}, {\"Country\": \"Philippines\", \"Loan Amount\": 100.0}, {\"Country\": \"Philippines\", \"Loan Amount\": 250.0}, {\"Country\": \"Nicaragua\", \"Loan Amount\": 225.0}, {\"Country\": \"Guatemala\", \"Loan Amount\": 1200.0}, {\"Country\": \"Philippines\", \"Loan Amount\": 150.0}, {\"Country\": \"Paraguay\", \"Loan Amount\": 600.0}, {\"Country\": \"Philippines\", \"Loan Amount\": 300.0}, {\"Country\": \"Bolivia\", \"Loan Amount\": 700.0}, {\"Country\": \"Philippines\", \"Loan Amount\": 125.0}, {\"Country\": \"Philippines\", \"Loan Amount\": 650.0}, {\"Country\": \"Madagascar\", \"Loan Amount\": 175.0}, {\"Country\": \"Georgia\", \"Loan Amount\": 1800.0}, {\"Country\": \"Uganda\", \"Loan Amount\": 1525.0}, {\"Country\": \"Kenya\", \"Loan Amount\": 575.0}, {\"Country\": \"Tajikistan\", \"Loan Amount\": 700.0}, {\"Country\": \"Jordan\", \"Loan Amount\": 1450.0}, {\"Country\": \"Kenya\", \"Loan Amount\": 400.0}, {\"Country\": \"Philippines\", \"Loan Amount\": 200.0}, {\"Country\": \"Ecuador\", \"Loan Amount\": 1000.0}, {\"Country\": \"Kenya\", \"Loan Amount\": 350.0}]}}, {\"mode\": \"vega-lite\"});\n",
       "</script>"
      ],
      "text/plain": [
       "alt.Chart(...)"
      ]
     },
     "execution_count": 54,
     "metadata": {},
     "output_type": "execute_result"
    }
   ],
   "source": [
    "import altair as alt\n",
    "import pandas as pd\n",
    "dataset=pd.DataFrame({'Country' : ['Azerbaijan', 'El Salvador', 'Bolivia', 'Paraguay', 'El Salvador', 'Philippines', 'Philippines', 'Nicaragua', 'Guatemala', 'Philippines', 'Paraguay', 'Philippines', 'Bolivia', 'Philippines', 'Philippines', 'Madagascar', 'Georgia', 'Uganda', 'Kenya', 'Tajikistan', 'Jordan', 'Kenya', 'Philippines', 'Ecuador', 'Kenya'],'Loan Amount' : [1250.0, 500.0, 1450.0, 200.0, 700.0, 100.0, 250.0, 225.0, 1200.0, 150.0, 600.0, 300.0, 700.0, 125.0, 650.0, 175.0, 1800.0, 1525.0, 575.0, 700.0, 1450.0, 400.0, 200.0, 1000.0, 350.0]})\n",
    "\n",
    "\n",
    "def chart(dataset, column_name, target_var):\n",
    "    w = 500\n",
    "    single = alt.selection_point()\n",
    "    a = alt.Chart(dataset).mark_bar().encode(\n",
    "    alt.X(column_name + ':N', bin=False),\n",
    "    alt.Y('Loan Amount'),\n",
    "    color = alt.condition(single, alt.value('#4c78a8'), alt.value('lightgray')),\n",
    "    tooltip=['Loan Amount', alt.Tooltip(column_name, bin=False)]\n",
    "    ).add_params(single).properties(width=w)\n",
    "    return(a)\n",
    "chart(dataset, 'Country', \"Loan Amount\")"
   ]
  },
  {
   "cell_type": "markdown",
   "id": "f4a7a277-64ac-46d7-81a7-19b878eb9c67",
   "metadata": {},
   "source": [
    "* Compared to the Vega-Lite, the Python version seems more convenient. But the basic logic is the same.\n",
    "* Compared to Matplotlib, Altair is highly customized and easier to learn. For the more complicated graph or interactive graph, the Altair is an excellent tool to create this kind of graph."
   ]
  }
 ],
 "metadata": {
  "kernelspec": {
   "display_name": "Python 3 (ipykernel)",
   "language": "python",
   "name": "python3"
  },
  "language_info": {
   "codemirror_mode": {
    "name": "ipython",
    "version": 3
   },
   "file_extension": ".py",
   "mimetype": "text/x-python",
   "name": "python",
   "nbconvert_exporter": "python",
   "pygments_lexer": "ipython3",
   "version": "3.10.9"
  }
 },
 "nbformat": 4,
 "nbformat_minor": 5
}
